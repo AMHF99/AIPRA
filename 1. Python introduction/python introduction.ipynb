{
 "cells": [
  {
   "cell_type": "markdown",
   "metadata": {
    "slideshow": {
     "slide_type": "slide"
    }
   },
   "source": [
    "# Welcome to Python!\n",
    "This notebook is where you can review most of the basic concepts of Python that we covered during our workshop. You can run, edit, and experiment with the code blocks here.\n",
    "\n",
    "Make sure you read the comments carefully to understand what each block of code does.\n",
    "\n",
    "If you run into a compilation error, try to debug it! **debug! debug! debug! debug! debug!**\n"
   ]
  },
  {
   "cell_type": "markdown",
   "metadata": {
    "slideshow": {
     "slide_type": "slide"
    }
   },
   "source": [
    "# Types"
   ]
  },
  {
   "cell_type": "code",
   "execution_count": null,
   "metadata": {},
   "outputs": [],
   "source": [
    "# First off, let's start with the basic basics. In Python, each object / \n",
    "# thing has a type. For example, a word like\n",
    "\n",
    "print (\"Hello World!\") # This is a string\n",
    "print (3) # This is an integer\n",
    "print (4.5) # This is a float - a number with a decimal point\n",
    "print (\"I am\", 50, \"years old\") # We can print multiple things by separating by commas"
   ]
  },
  {
   "cell_type": "code",
   "execution_count": null,
   "metadata": {},
   "outputs": [],
   "source": [
    "# We can check the type of an object using the type() \n",
    "print (type(\"Hello World!\")) #\"str\" means string\n",
    "print (type(3)) #\"int\" means integer\n",
    "print (type(4.5)) #\"float\" means a number with a decimal"
   ]
  },
  {
   "cell_type": "code",
   "execution_count": null,
   "metadata": {},
   "outputs": [],
   "source": [
    "# Another basic type in Python is the boolean. \n",
    "# It can be used with logical operators like AND or OR\n",
    "\n",
    "print (True and False) # This is False\n",
    "print (True or False)  # This is True\n",
    "print (True and True)  # This is True\n",
    "print (False or False) # This is False\n",
    "print(\"===========\")\n",
    "print('1 == 0: {}'.format(1 == 0))\n",
    "print('1 != 0: {}'.format(1 != 0))\n",
    "print('1 > 0: {}'.format(1 > 0))\n",
    "print('1 > 1: {}'.format(1 > 1))\n",
    "print('1 < 0: {}'.format(1 < 0))\n",
    "print('1 < 1: {}'.format(1 < 1))\n",
    "print('1 >= 0: {}'.format(1 >= 0))\n",
    "print('1 >= 1: {}'.format(1 >= 1))\n",
    "print('1 <= 0: {}'.format(1 <= 0))\n",
    "print('1 <= 1: {}'.format(1 <= 1))"
   ]
  },
  {
   "cell_type": "markdown",
   "metadata": {},
   "source": [
    "# Variables"
   ]
  },
  {
   "cell_type": "code",
   "execution_count": null,
   "metadata": {},
   "outputs": [],
   "source": [
    "# In Python, we can store objects in variables.\n",
    "# they can hold some sort of value which we can access and change anytime we want\n",
    "\n",
    "greetings = \"Hello World\"\n",
    "print (greetings)\n",
    "\n",
    "name = \"Sean\"\n",
    "print (\"My name is\", name)\n",
    "\n",
    "age = 50\n",
    "print (\"I am\", age, \"years old\")\n",
    "\n",
    "hungry = True\n",
    "thirsty = True\n",
    "print (hungry and thirsty) # prints True"
   ]
  },
  {
   "cell_type": "markdown",
   "metadata": {},
   "source": [
    "# Conditional"
   ]
  },
  {
   "cell_type": "code",
   "execution_count": null,
   "metadata": {},
   "outputs": [],
   "source": [
    "\n",
    "if statement:\n",
    "    print('statement is True')\n",
    "    \n",
    "if not statement:\n",
    "    print('statement is not True')"
   ]
  },
  {
   "cell_type": "code",
   "execution_count": null,
   "metadata": {},
   "outputs": [],
   "source": [
    "statement = True\n",
    "if not statement:\n",
    "    print('if')\n",
    "else:\n",
    "    print('else')"
   ]
  },
  {
   "cell_type": "code",
   "execution_count": null,
   "metadata": {},
   "outputs": [],
   "source": [
    "greeting = 'Hello fellow Pythonista!'\n",
    "language = 'Italian'\n",
    "\n",
    "if language == 'Swedish':\n",
    "    greeting = 'Hejsan!'\n",
    "elif language == 'Finnish':\n",
    "    greeting = 'Latua perkele!'\n",
    "elif language == 'Spanish':\n",
    "    greeting = 'Hola!'\n",
    "elif language == 'German':\n",
    "    greeting = 'Guten Tag!'\n",
    "    \n",
    "print(greeting)"
   ]
  },
  {
   "cell_type": "markdown",
   "metadata": {},
   "source": [
    "# Lists"
   ]
  },
  {
   "cell_type": "code",
   "execution_count": null,
   "metadata": {},
   "outputs": [],
   "source": [
    "my_empty_list = []\n",
    "print('empty list: {}, type: {}'.format(my_empty_list, type(my_empty_list)))"
   ]
  },
  {
   "cell_type": "code",
   "execution_count": null,
   "metadata": {},
   "outputs": [],
   "source": [
    "list_of_ints = [1, 2, 6, 6, 7]\n",
    "list_of_misc = [0.2, 5, 'Python', 'is', 'still fun', '!']\n",
    "print('lengths: {} and {}'.format(len(list_of_ints), len(list_of_misc)))"
   ]
  },
  {
   "cell_type": "code",
   "execution_count": null,
   "metadata": {},
   "outputs": [],
   "source": [
    "my_list = ['Python', 'is', 'still', 'cool']\n",
    "print(my_list[0])\n",
    "print(my_list[3])"
   ]
  },
  {
   "cell_type": "code",
   "execution_count": null,
   "metadata": {},
   "outputs": [],
   "source": [
    "# Checking if certain value is present in list\n",
    "languages = ['Java', 'C++', 'Go', 'Python', 'JavaScript']\n",
    "if 'Python' in languages:\n",
    "    print('Python is there!')"
   ]
  },
  {
   "cell_type": "code",
   "execution_count": null,
   "metadata": {},
   "outputs": [],
   "source": [
    "# list.append()\n",
    "my_list = [1]\n",
    "my_list.append('ham')\n",
    "print(my_list)"
   ]
  },
  {
   "cell_type": "markdown",
   "metadata": {},
   "source": [
    "list.remove()\n",
    "list.sort()\n",
    "list.reverse()\n",
    "list.pop()"
   ]
  },
  {
   "cell_type": "code",
   "execution_count": 43,
   "metadata": {},
   "outputs": [
    {
     "name": "stdout",
     "output_type": "stream",
     "text": [
      "['Python', 'is', 'still', 'cool']\n",
      "Python\n",
      "['is', 'still', 'cool']\n"
     ]
    }
   ],
   "source": [
    "my_list = ['Python', 'is', 'still', 'cool']\n",
    "print(my_list)\n",
    "print(my_list.pop(0))\n",
    "print(my_list)"
   ]
  },
  {
   "cell_type": "code",
   "execution_count": 50,
   "metadata": {},
   "outputs": [
    {
     "name": "stdout",
     "output_type": "stream",
     "text": [
      "[0, 1, 3, 4]\n"
     ]
    }
   ],
   "source": [
    "my_list = [3, 4, 1, 0]\n",
    "my_list.sort()\n",
    "print(my_list)"
   ]
  },
  {
   "cell_type": "code",
   "execution_count": 54,
   "metadata": {},
   "outputs": [
    {
     "name": "stdout",
     "output_type": "stream",
     "text": [
      "[0, 1, 3, 4]\n"
     ]
    }
   ],
   "source": [
    "my_list.reverse()\n",
    "print(my_list)"
   ]
  },
  {
   "cell_type": "code",
   "execution_count": 56,
   "metadata": {},
   "outputs": [
    {
     "name": "stdout",
     "output_type": "stream",
     "text": [
      "[3, 4, 1, 0, 'Python', 'is', 'still', 'cool']\n"
     ]
    }
   ],
   "source": [
    "my_list_numbers = [3, 4, 1, 0]\n",
    "my_list_words = ['Python', 'is', 'still', 'cool']\n",
    "my_list_numbers.extend(my_list_words)\n",
    "print(my_list_numbers)"
   ]
  },
  {
   "cell_type": "code",
   "execution_count": 57,
   "metadata": {},
   "outputs": [
    {
     "name": "stdout",
     "output_type": "stream",
     "text": [
      "[3, 4, 1, 0, ['Python', 'is', 'still', 'cool']]\n"
     ]
    }
   ],
   "source": [
    "my_list_numbers = [3, 4, 1, 0]\n",
    "my_list_words = ['Python', 'is', 'still', 'cool']\n",
    "my_list_numbers.append(my_list_words)\n",
    "print(my_list_numbmy_list_numbers = [3, 4, 1, 0]\n",
    "my_list_words = ['Python', 'is', 'still', 'cool']\n",
    "my_list_numbers.extend(my_list_words)\n",
    "print(my_list_numbers)ers)"
   ]
  },
  {
   "cell_type": "code",
   "execution_count": 62,
   "metadata": {},
   "outputs": [
    {
     "name": "stdout",
     "output_type": "stream",
     "text": [
      "['Python', 'is', 'still', 'cool', '!']\n",
      "===========\n",
      "['Python', 'is', 'still', 'cool', '!']\n"
     ]
    }
   ],
   "source": [
    "my_list_words = ['Python', 'is', 'still', 'cool']\n",
    "A = my_list_words\n",
    "A.extend('!')\n",
    "print(A)\n",
    "print(\"===========\")\n",
    "print(my_list_words)"
   ]
  },
  {
   "cell_type": "markdown",
   "metadata": {},
   "source": [
    "You can get around this by creating new `list`:"
   ]
  },
  {
   "cell_type": "code",
   "execution_count": 63,
   "metadata": {},
   "outputs": [
    {
     "name": "stdout",
     "output_type": "stream",
     "text": [
      "original: [1, 2, 3], modified: [99, 2, 3]\n"
     ]
    }
   ],
   "source": [
    "original = [1, 2, 3]\n",
    "modified = list(original)  # Note list() \n",
    "# Alternatively, you can use copy method\n",
    "# modified = original.copy()\n",
    "modified[0] = 99\n",
    "print('original: {}, modified: {}'.format(original, modified))"
   ]
  },
  {
   "cell_type": "markdown",
   "metadata": {},
   "source": [
    "# Loops "
   ]
  },
  {
   "cell_type": "code",
   "execution_count": null,
   "metadata": {},
   "outputs": [],
   "source": [
    "# Basically it does whatever follows 5 times.\n",
    "# The \"i\" - a variable that helps us keep track where we are in a loop. \n",
    "for i in range(5):\n",
    "    print (\"python\")\n",
    "\n",
    "print(\"==========\")\n",
    "\n",
    "for i in range(5):\n",
    "    print (\"python\", i)"
   ]
  },
  {
   "cell_type": "code",
   "execution_count": 41,
   "metadata": {},
   "outputs": [
    {
     "name": "stdout",
     "output_type": "stream",
     "text": [
      "1\n",
      "2\n",
      "3\n",
      "4\n",
      "Python\n",
      "is\n",
      "neat\n",
      "[2, 3, 4, 'Python', 'is', 'neat']\n"
     ]
    }
   ],
   "source": [
    "my_list = [1, 2, 3, 4, 'Python', 'is', 'neat']\n",
    "for item in my_list:\n",
    "    print(item)"
   ]
  },
  {
   "cell_type": "markdown",
   "metadata": {},
   "source": [
    "### `break`\n",
    "Stop the execution of the loop."
   ]
  },
  {
   "cell_type": "code",
   "execution_count": null,
   "metadata": {},
   "outputs": [],
   "source": [
    "for item in my_list:\n",
    "    if item == 'Python':\n",
    "        break\n",
    "    print(item)"
   ]
  },
  {
   "cell_type": "code",
   "execution_count": null,
   "metadata": {},
   "outputs": [],
   "source": [
    "for number in range(5):\n",
    "    print(number)"
   ]
  },
  {
   "cell_type": "code",
   "execution_count": null,
   "metadata": {},
   "outputs": [],
   "source": [
    "for number in range(2, 5):\n",
    "    print(number)"
   ]
  },
  {
   "cell_type": "code",
   "execution_count": null,
   "metadata": {},
   "outputs": [],
   "source": [
    "for number in range(0, 10, 2):  # last one is step\n",
    "    print(number)"
   ]
  },
  {
   "cell_type": "markdown",
   "metadata": {},
   "source": [
    "# Dictionaries"
   ]
  },
  {
   "cell_type": "code",
   "execution_count": 64,
   "metadata": {},
   "outputs": [
    {
     "name": "stdout",
     "output_type": "stream",
     "text": [
      "{'value1': 1.6, 'value2': 10, 'name': 'John Doe'}\n",
      "{'value1': 1.6, 'value2': 10, 'name': 'John Doe'}\n",
      "equal: True\n",
      "length: 3\n"
     ]
    }
   ],
   "source": [
    "# Kind of like your ordinary dictionary, you have two main\n",
    "# parts - the key and the value. In an actual dictionary,\n",
    "# this is equivalent to the word and its definition.\n",
    "\n",
    "dict1 = {'value1': 1.6, 'value2': 10, 'name': 'John Doe'}\n",
    "dict2 = dict(value1=1.6, value2=10, name='John Doe')\n",
    "\n",
    "print(dict1)\n",
    "print(dict2)\n",
    "\n",
    "print('equal: {}'.format(dict1 == dict2))\n",
    "print('length: {}'.format(len(dict1)))\n"
   ]
  },
  {
   "cell_type": "code",
   "execution_count": 65,
   "metadata": {},
   "outputs": [
    {
     "name": "stdout",
     "output_type": "stream",
     "text": [
      "keys: dict_keys(['value1', 'value2', 'name'])\n",
      "values: dict_values([1.6, 10, 'John Doe'])\n",
      "items: dict_items([('value1', 1.6), ('value2', 10), ('name', 'John Doe')])\n"
     ]
    }
   ],
   "source": [
    "print('keys: {}'.format(dict1.keys()))\n",
    "print('values: {}'.format(dict1.values()))\n",
    "print('items: {}'.format(dict1.items()))"
   ]
  },
  {
   "cell_type": "code",
   "execution_count": 66,
   "metadata": {},
   "outputs": [
    {
     "name": "stdout",
     "output_type": "stream",
     "text": [
      "{'key1': 'new value', 'key2': 99}\n",
      "value of key1: new value\n"
     ]
    }
   ],
   "source": [
    "my_dict = {}\n",
    "my_dict['key1'] = 'value1'\n",
    "my_dict['key2'] = 99\n",
    "my_dict['key1'] = 'new value'  # overriding existing value\n",
    "print(my_dict)\n",
    "print('value of key1: {}'.format(my_dict['key1']))"
   ]
  },
  {
   "cell_type": "code",
   "execution_count": 67,
   "metadata": {},
   "outputs": [
    {
     "name": "stdout",
     "output_type": "stream",
     "text": [
      "{'key1': 'value1', 'key2': 99}\n",
      "my_key is not in {'key1': 'value1', 'key2': 99}\n"
     ]
    }
   ],
   "source": [
    "my_dict = {'key1': 'value1', 'key2': 99, 'keyX': 'valueX'}\n",
    "del my_dict['keyX']\n",
    "print(my_dict)\n",
    "\n",
    "# Usually better to make sure that the key exists (see also pop() and popitem())\n",
    "key_to_delete = 'my_key'\n",
    "if key_to_delete in my_dict:\n",
    "    del my_dict[key_to_delete]\n",
    "else:\n",
    "    print('{key} is not in {dictionary}'.format(key=key_to_delete, dictionary=my_dict))"
   ]
  },
  {
   "cell_type": "code",
   "execution_count": 68,
   "metadata": {},
   "outputs": [
    {
     "name": "stdout",
     "output_type": "stream",
     "text": [
      "d: None\n",
      "d: my default value\n"
     ]
    }
   ],
   "source": [
    "my_dict = {'a': 1, 'b': 2, 'c': 3}\n",
    "d = my_dict.get('d')\n",
    "print('d: {}'.format(d))\n",
    "\n",
    "d = my_dict.get('d', 'my default value')\n",
    "print('d: {}'.format(d))"
   ]
  },
  {
   "cell_type": "markdown",
   "metadata": {},
   "source": [
    "# Functions"
   ]
  },
  {
   "cell_type": "code",
   "execution_count": 70,
   "metadata": {},
   "outputs": [
    {
     "name": "stdout",
     "output_type": "stream",
     "text": [
      "3\n"
     ]
    }
   ],
   "source": [
    "# Imagine a function as a machine with three parts.\n",
    "# First, there's the \"input\"\n",
    "# The input is the parameter to the function\n",
    "# The second part is the body of the function. This is\n",
    "# where the function does something to the input\n",
    "# And lastly, there's the return statement. This\n",
    "# is where the function outputs the result\n",
    "\n",
    "# For example, take a sandwich-making machine.\n",
    "# The input would be the list of topings. For example, it may\n",
    "# take inputs like [\"cheese\", \"ham\", \"lettuce\"]\n",
    "# The body of the function involves actually making the sandwich\n",
    "# by putting together the input (the ingredients) with\n",
    "# bread and other condiments.\n",
    "# Finally, the machine \"returns\" or serves the sandwich\n",
    "\n",
    "# This is what a function looks like in Python\n",
    "def add(x, y):\n",
    "    result = x + y\n",
    "    return result\n",
    "\n",
    "print (add(1, 2))"
   ]
  },
  {
   "cell_type": "code",
   "execution_count": 71,
   "metadata": {},
   "outputs": [
    {
     "name": "stdout",
     "output_type": "stream",
     "text": [
      "Hello John Doe and Superman!\n"
     ]
    }
   ],
   "source": [
    "#without return value\n",
    "def greet_us(name1, name2):\n",
    "    print('Hello {} and {}!'.format(name1, name2))\n",
    "\n",
    "greet_us('John Doe', 'Superman')"
   ]
  },
  {
   "cell_type": "code",
   "execution_count": 72,
   "metadata": {},
   "outputs": [
    {
     "name": "stdout",
     "output_type": "stream",
     "text": [
      "4\n",
      "4\n",
      "4\n"
     ]
    }
   ],
   "source": [
    "def my_fancy_calculation(first, second, third):\n",
    "    return first + second - third \n",
    "\n",
    "print(my_fancy_calculation(3, 2, 1))\n",
    "\n",
    "print(my_fancy_calculation(first=3, second=2, third=1))\n",
    "\n",
    "# With keyword arguments you can mix the order\n",
    "print(my_fancy_calculation(third=1, first=3, second=2))"
   ]
  },
  {
   "cell_type": "code",
   "execution_count": 76,
   "metadata": {},
   "outputs": [
    {
     "name": "stdout",
     "output_type": "stream",
     "text": [
      "{'name': 'John Doe', 'age': 82, 'salary': 300}\n",
      "{'name': 'Lisa Doe', 'age': 22, 'salary': 10000, 'job': 'hacker'}\n"
     ]
    }
   ],
   "source": [
    "def create_person_info(name, age, job=None, salary=300):\n",
    "    info = {'name': name, 'age': age, 'salary': salary}\n",
    "    \n",
    "    # Add 'job' key only if it's provided as parameter\n",
    "    if job:  \n",
    "        info.update(dict(job=job))\n",
    "        \n",
    "    return info\n",
    "\n",
    "person1 = create_person_info('John Doe', 82)  # use default values for job and salary\n",
    "person2 = create_person_info('Lisa Doe', 22, 'hacker', 10000)\n",
    "print(person1)\n",
    "print(person2)"
   ]
  },
  {
   "cell_type": "markdown",
   "metadata": {},
   "source": [
    "# Docstring"
   ]
  },
  {
   "cell_type": "code",
   "execution_count": 77,
   "metadata": {},
   "outputs": [
    {
     "name": "stdout",
     "output_type": "stream",
     "text": [
      "Help on function print_sum in module __main__:\n",
      "\n",
      "print_sum(val1, val2)\n",
      "    Function which prints the sum of given arguments.\n",
      "\n",
      "None\n"
     ]
    }
   ],
   "source": [
    "def print_sum(val1, val2):\n",
    "    \"\"\"Function which prints the sum of given arguments.\"\"\"\n",
    "    print('sum: {}'.format(val1 + val2))\n",
    "\n",
    "print(help(print_sum))"
   ]
  },
  {
   "cell_type": "code",
   "execution_count": 81,
   "metadata": {},
   "outputs": [
    {
     "name": "stdout",
     "output_type": "stream",
     "text": [
      "Help on function calculate_sum in module __main__:\n",
      "\n",
      "calculate_sum()\n",
      "    This is a longer docstring defining also the args and the return value. \n",
      "    \n",
      "    Args:\n",
      "        val1: The first parameter.\n",
      "        val2: The second parameter.\n",
      "    \n",
      "    Returns:\n",
      "        The sum of val1 and val2.\n",
      "\n",
      "None\n",
      "==============\n",
      "1 2\n"
     ]
    }
   ],
   "source": [
    "def calculate_sum():\n",
    "    \"\"\"This is a longer docstring defining also the args and the return value. \n",
    "\n",
    "    Args:\n",
    "        val1: The first parameter.\n",
    "        val2: The second parameter.\n",
    "\n",
    "    Returns:\n",
    "        The sum of val1 and val2.\n",
    "        \n",
    "    \"\"\"\n",
    "    val1 = 1 \n",
    "    val2 = 2\n",
    "    return val1, val2\n",
    "\n",
    "print(help(calculate_sum))\n",
    "print(\"==============\")\n",
    "a, b = calculate_sum()\n",
    "print(a,b)"
   ]
  },
  {
   "cell_type": "markdown",
   "metadata": {},
   "source": [
    "# Pass"
   ]
  },
  {
   "cell_type": "code",
   "execution_count": 82,
   "metadata": {},
   "outputs": [],
   "source": [
    "def my_function(some_argument):\n",
    "    pass\n",
    "\n",
    "def my_other_function():\n",
    "    pass"
   ]
  },
  {
   "cell_type": "code",
   "execution_count": null,
   "metadata": {},
   "outputs": [],
   "source": []
  }
 ],
 "metadata": {
  "kernelspec": {
   "display_name": "Python 3",
   "language": "python",
   "name": "python3"
  },
  "language_info": {
   "codemirror_mode": {
    "name": "ipython",
    "version": 3
   },
   "file_extension": ".py",
   "mimetype": "text/x-python",
   "name": "python",
   "nbconvert_exporter": "python",
   "pygments_lexer": "ipython3",
   "version": "3.7.5rc1"
  }
 },
 "nbformat": 4,
 "nbformat_minor": 2
}
