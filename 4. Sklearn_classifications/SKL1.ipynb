{
 "cells": [
  {
   "cell_type": "markdown",
   "metadata": {},
   "source": [
    "# Intro to Machine learning\n",
    "Machine learning is a method of data analysis that automates analytical model building. It is a branch of artificial intelligence based on the idea that systems can learn from data, identify patterns and make decisions with minimal human intervention.\n",
    "Machine-learning algorithms use statistics to find patterns in massive* amounts of data. There are multiple forms of Machine Learning; supervised, unsupervised , semi-supervised and reinforcement learning. Each form of Machine Learning has differing approaches, but they all follow the same underlying process and theory. This explanation covers the general Machine Leaning concept and then focusses in on each approach.</br>\n",
    "<img src=\"1-E8TLv4jgOzG19i-5S4rMKw.png\" width=\"400\" height=\"400\">\n",
    "<img src=\"1-ReaNclUjeVbSRZhHVTCzFw.png\" width=\"400\" height=\"400\">"
   ]
  },
  {
   "cell_type": "markdown",
   "metadata": {},
   "source": [
    "## Terminology\n",
    "1. **Dataset**: A set of data examples, that contain features important to solving the problem.\n",
    "2. **Features**: Important pieces of data that help us understand a problem. These are fed in to a Machine Learning algorithm to help it learn.\n",
    "3. **Model**: The representation (internal model) of a phenomenon that a Machine Learning algorithm has learnt. It learns this from the data it is shown during training. The model is the output you get after training an algorithm. For example, a decision tree algorithm would be trained and produce a decision tree model."
   ]
  },
  {
   "cell_type": "markdown",
   "metadata": {},
   "source": [
    "## Process \n",
    "1. **Data Collection**: Collect the data that the algorithm will learn from.\n",
    "2. **Data Preparation**: Format and engineer the data into the optimal format, extracting important features and performing dimensionality reduction.\n",
    "3. **Training**: Also known as the fitting stage, this is where the Machine Learning algorithm actually learns by showing it the data that has been collected and prepared.\n",
    "4. **Evaluation**: Test the model to see how well it performs.\n",
    "5. **Tuning**: Fine tune the model to maximise it’s performance.\n",
    "\n",
    "The process of training a model is the process of feeding data into a neural network and letting it learn the patterns of the data. The training process takes in the data and pulls out the features of the dataset. During the training process for a supervised classification task the network is passed both the features and the labels of the training data. However, during testing, the network is only fed features.\n",
    "\n",
    "The testing process is where the patterns that the network has learned are tested. The features are given to the network, and the network must predict the labels. The data for the network is divided into training and testing sets, two different sets of inputs. You do not test the classifier on the same dataset you train it on, as the model has already learned the patterns of this set of data and it would be extreme bias.\n",
    "\n",
    "Instead, the dataset is split up into training and testing sets, a set the classifier trains on and a set the classifier has never seen before."
   ]
  },
  {
   "cell_type": "markdown",
   "metadata": {},
   "source": [
    "## Supervised Learning\n",
    "In supervised learning, the goal is to learn the mapping (the rules) between a set of inputs and outputs.\n",
    "For example, the inputs could be the weather forecast, and the outputs would be the visitors to the beach. The goal in supervised learning would be **to learn the mapping that describes the relationship** between temperature and number of beach visitors.\n",
    "Regression is used in financial trading to find the patterns in stocks and other assets to decide when to buy/sell and make a profit. For classification, it is already being used to classify if an email you receive is spam.</br>\n",
    "<img src=\"0-ZTnWMgz0f5QjPlwx.png\" >"
   ]
  },
  {
   "cell_type": "markdown",
   "metadata": {},
   "source": [
    "## Unsupervised Learning\n",
    "In unsupervised learning, only input data is provided in the examples. There are no labelled example outputs to aim for. But it may be surprising to know that it is still possible to find many interesting and complex patterns hidden within data without any labels.\n",
    "An example of unsupervised learning in real life would be sorting different colour coins into separate piles. Nobody taught you how to separate them, but by just looking at their features such as colour, you can see which colour coins are associated and cluster them into their correct groups.\n",
    "Association learning is used for recommending or finding related items. A common example is market basket analysis. In market basket analysis, association rules are found to predict other items a customer is likely to buy based on what they have placed in their basket. Amazon use this. If you place a new laptop in your basket, they recommend items like a laptop case via their association rules.\n",
    "\n",
    "<img src=\"1-5f8VujKLQKhQZRafA2t9hw.png\" >\n"
   ]
  },
  {
   "cell_type": "markdown",
   "metadata": {},
   "source": [
    "## Reinforcement Learning\n",
    "It is less common and much more complex, but it has generated incredible results. It doesn’t use labels as such, and instead uses rewards to learn.\n",
    "\n",
    "If you’re familiar with psychology, you’ll have heard of reinforcement learning. If not, you’ll already know the concept from how we learn in everyday life. In this approach, occasional positive and negative feedback is used to reinforce behaviours. Think of it like training a dog, good behaviours are rewarded with a treat and become more common. Bad behaviours are punished and become less common. This reward-motivated behaviour is key in reinforcement learning.\n"
   ]
  },
  {
   "cell_type": "markdown",
   "metadata": {},
   "source": [
    "# Scikit-Learn"
   ]
  },
  {
   "cell_type": "markdown",
   "metadata": {},
   "source": [
    "Scikit-learn is a free machine learning library for Python. It features various algorithms like `support vector machine`, `random forests`, and `k-neighbours`, and it also supports Python numerical and scientific libraries like `NumPy` and `SciPy`.\n",
    "\n",
    "In this tutorial we will learn to code python and apply Machine Learning with the help of the scikit-learn library, which was created to make doing machine learning in Python easier and more robust."
   ]
  },
  {
   "cell_type": "markdown",
   "metadata": {},
   "source": [
    "## Different Types of Classifiers\n",
    "1. K-Nearest Neighbors\n",
    "2. Support Vector Machines\n",
    "3. Decision Tree Classifiers/Random Forests\n",
    "4. Naive Bayes\n",
    "5. Linear Discriminant Analysis\n",
    "6. Logistic Regression\n"
   ]
  },
  {
   "cell_type": "markdown",
   "metadata": {},
   "source": [
    "## The data set\n",
    "We will see how these classifiers work on our data. "
   ]
  },
  {
   "cell_type": "code",
   "execution_count": 23,
   "metadata": {},
   "outputs": [],
   "source": [
    "#import necessary modules\n",
    "import pandas as pd\n",
    "#store the url in a variable\n",
    "url = \"https://raw.githubusercontent.com/vkrit/data-science-class/master/WA_Fn-UseC_-Sales-Win-Loss.csv\"\n",
    "# Read in the data with `read_csv()`\n",
    "sales_data = pd.read_csv(url)"
   ]
  },
  {
   "cell_type": "code",
   "execution_count": 24,
   "metadata": {},
   "outputs": [
    {
     "data": {
      "text/html": [
       "<div>\n",
       "<style scoped>\n",
       "    .dataframe tbody tr th:only-of-type {\n",
       "        vertical-align: middle;\n",
       "    }\n",
       "\n",
       "    .dataframe tbody tr th {\n",
       "        vertical-align: top;\n",
       "    }\n",
       "\n",
       "    .dataframe thead th {\n",
       "        text-align: right;\n",
       "    }\n",
       "</style>\n",
       "<table border=\"1\" class=\"dataframe\">\n",
       "  <thead>\n",
       "    <tr style=\"text-align: right;\">\n",
       "      <th></th>\n",
       "      <th>Opportunity Number</th>\n",
       "      <th>Supplies Subgroup</th>\n",
       "      <th>Supplies Group</th>\n",
       "      <th>Region</th>\n",
       "      <th>Route To Market</th>\n",
       "      <th>Elapsed Days In Sales Stage</th>\n",
       "      <th>Opportunity Result</th>\n",
       "      <th>Sales Stage Change Count</th>\n",
       "      <th>Total Days Identified Through Closing</th>\n",
       "      <th>Total Days Identified Through Qualified</th>\n",
       "      <th>Opportunity Amount USD</th>\n",
       "      <th>Client Size By Revenue</th>\n",
       "      <th>Client Size By Employee Count</th>\n",
       "      <th>Revenue From Client Past Two Years</th>\n",
       "      <th>Competitor Type</th>\n",
       "      <th>Ratio Days Identified To Total Days</th>\n",
       "      <th>Ratio Days Validated To Total Days</th>\n",
       "      <th>Ratio Days Qualified To Total Days</th>\n",
       "      <th>Deal Size Category</th>\n",
       "    </tr>\n",
       "  </thead>\n",
       "  <tbody>\n",
       "    <tr>\n",
       "      <td>0</td>\n",
       "      <td>1641984</td>\n",
       "      <td>Exterior Accessories</td>\n",
       "      <td>Car Accessories</td>\n",
       "      <td>Northwest</td>\n",
       "      <td>Fields Sales</td>\n",
       "      <td>76</td>\n",
       "      <td>Won</td>\n",
       "      <td>13</td>\n",
       "      <td>104</td>\n",
       "      <td>101</td>\n",
       "      <td>0</td>\n",
       "      <td>5</td>\n",
       "      <td>5</td>\n",
       "      <td>0</td>\n",
       "      <td>Unknown</td>\n",
       "      <td>0.69636</td>\n",
       "      <td>0.113985</td>\n",
       "      <td>0.154215</td>\n",
       "      <td>1</td>\n",
       "    </tr>\n",
       "    <tr>\n",
       "      <td>1</td>\n",
       "      <td>1658010</td>\n",
       "      <td>Exterior Accessories</td>\n",
       "      <td>Car Accessories</td>\n",
       "      <td>Pacific</td>\n",
       "      <td>Reseller</td>\n",
       "      <td>63</td>\n",
       "      <td>Loss</td>\n",
       "      <td>2</td>\n",
       "      <td>163</td>\n",
       "      <td>163</td>\n",
       "      <td>0</td>\n",
       "      <td>3</td>\n",
       "      <td>5</td>\n",
       "      <td>0</td>\n",
       "      <td>Unknown</td>\n",
       "      <td>0.00000</td>\n",
       "      <td>1.000000</td>\n",
       "      <td>0.000000</td>\n",
       "      <td>1</td>\n",
       "    </tr>\n",
       "    <tr>\n",
       "      <td>2</td>\n",
       "      <td>1674737</td>\n",
       "      <td>Motorcycle Parts</td>\n",
       "      <td>Performance &amp; Non-auto</td>\n",
       "      <td>Pacific</td>\n",
       "      <td>Reseller</td>\n",
       "      <td>24</td>\n",
       "      <td>Won</td>\n",
       "      <td>7</td>\n",
       "      <td>82</td>\n",
       "      <td>82</td>\n",
       "      <td>7750</td>\n",
       "      <td>1</td>\n",
       "      <td>1</td>\n",
       "      <td>0</td>\n",
       "      <td>Unknown</td>\n",
       "      <td>1.00000</td>\n",
       "      <td>0.000000</td>\n",
       "      <td>0.000000</td>\n",
       "      <td>1</td>\n",
       "    </tr>\n",
       "    <tr>\n",
       "      <td>3</td>\n",
       "      <td>1675224</td>\n",
       "      <td>Shelters &amp; RV</td>\n",
       "      <td>Performance &amp; Non-auto</td>\n",
       "      <td>Midwest</td>\n",
       "      <td>Reseller</td>\n",
       "      <td>16</td>\n",
       "      <td>Loss</td>\n",
       "      <td>5</td>\n",
       "      <td>124</td>\n",
       "      <td>124</td>\n",
       "      <td>0</td>\n",
       "      <td>1</td>\n",
       "      <td>1</td>\n",
       "      <td>0</td>\n",
       "      <td>Known</td>\n",
       "      <td>1.00000</td>\n",
       "      <td>0.000000</td>\n",
       "      <td>0.000000</td>\n",
       "      <td>1</td>\n",
       "    </tr>\n",
       "    <tr>\n",
       "      <td>4</td>\n",
       "      <td>1689785</td>\n",
       "      <td>Exterior Accessories</td>\n",
       "      <td>Car Accessories</td>\n",
       "      <td>Pacific</td>\n",
       "      <td>Reseller</td>\n",
       "      <td>69</td>\n",
       "      <td>Loss</td>\n",
       "      <td>11</td>\n",
       "      <td>91</td>\n",
       "      <td>13</td>\n",
       "      <td>69756</td>\n",
       "      <td>1</td>\n",
       "      <td>1</td>\n",
       "      <td>0</td>\n",
       "      <td>Unknown</td>\n",
       "      <td>0.00000</td>\n",
       "      <td>0.141125</td>\n",
       "      <td>0.000000</td>\n",
       "      <td>4</td>\n",
       "    </tr>\n",
       "  </tbody>\n",
       "</table>\n",
       "</div>"
      ],
      "text/plain": [
       "   Opportunity Number     Supplies Subgroup          Supplies Group  \\\n",
       "0             1641984  Exterior Accessories         Car Accessories   \n",
       "1             1658010  Exterior Accessories         Car Accessories   \n",
       "2             1674737      Motorcycle Parts  Performance & Non-auto   \n",
       "3             1675224         Shelters & RV  Performance & Non-auto   \n",
       "4             1689785  Exterior Accessories         Car Accessories   \n",
       "\n",
       "      Region Route To Market  Elapsed Days In Sales Stage Opportunity Result  \\\n",
       "0  Northwest    Fields Sales                           76                Won   \n",
       "1    Pacific        Reseller                           63               Loss   \n",
       "2    Pacific        Reseller                           24                Won   \n",
       "3    Midwest        Reseller                           16               Loss   \n",
       "4    Pacific        Reseller                           69               Loss   \n",
       "\n",
       "   Sales Stage Change Count  Total Days Identified Through Closing  \\\n",
       "0                        13                                    104   \n",
       "1                         2                                    163   \n",
       "2                         7                                     82   \n",
       "3                         5                                    124   \n",
       "4                        11                                     91   \n",
       "\n",
       "   Total Days Identified Through Qualified  Opportunity Amount USD  \\\n",
       "0                                      101                       0   \n",
       "1                                      163                       0   \n",
       "2                                       82                    7750   \n",
       "3                                      124                       0   \n",
       "4                                       13                   69756   \n",
       "\n",
       "   Client Size By Revenue  Client Size By Employee Count  \\\n",
       "0                       5                              5   \n",
       "1                       3                              5   \n",
       "2                       1                              1   \n",
       "3                       1                              1   \n",
       "4                       1                              1   \n",
       "\n",
       "   Revenue From Client Past Two Years Competitor Type  \\\n",
       "0                                   0         Unknown   \n",
       "1                                   0         Unknown   \n",
       "2                                   0         Unknown   \n",
       "3                                   0           Known   \n",
       "4                                   0         Unknown   \n",
       "\n",
       "   Ratio Days Identified To Total Days  Ratio Days Validated To Total Days  \\\n",
       "0                              0.69636                            0.113985   \n",
       "1                              0.00000                            1.000000   \n",
       "2                              1.00000                            0.000000   \n",
       "3                              1.00000                            0.000000   \n",
       "4                              0.00000                            0.141125   \n",
       "\n",
       "   Ratio Days Qualified To Total Days  Deal Size Category  \n",
       "0                            0.154215                   1  \n",
       "1                            0.000000                   1  \n",
       "2                            0.000000                   1  \n",
       "3                            0.000000                   1  \n",
       "4                            0.000000                   4  "
      ]
     },
     "execution_count": 24,
     "metadata": {},
     "output_type": "execute_result"
    }
   ],
   "source": [
    "sales_data.head()\n"
   ]
  },
  {
   "cell_type": "code",
   "execution_count": 25,
   "metadata": {},
   "outputs": [
    {
     "data": {
      "text/plain": [
       "Opportunity Number                           int64\n",
       "Supplies Subgroup                           object\n",
       "Supplies Group                              object\n",
       "Region                                      object\n",
       "Route To Market                             object\n",
       "Elapsed Days In Sales Stage                  int64\n",
       "Opportunity Result                          object\n",
       "Sales Stage Change Count                     int64\n",
       "Total Days Identified Through Closing        int64\n",
       "Total Days Identified Through Qualified      int64\n",
       "Opportunity Amount USD                       int64\n",
       "Client Size By Revenue                       int64\n",
       "Client Size By Employee Count                int64\n",
       "Revenue From Client Past Two Years           int64\n",
       "Competitor Type                             object\n",
       "Ratio Days Identified To Total Days        float64\n",
       "Ratio Days Validated To Total Days         float64\n",
       "Ratio Days Qualified To Total Days         float64\n",
       "Deal Size Category                           int64\n",
       "dtype: object"
      ]
     },
     "execution_count": 25,
     "metadata": {},
     "output_type": "execute_result"
    }
   ],
   "source": [
    "# using the dtypes() method to display the different datatypes available\n",
    "sales_data.dtypes"
   ]
  },
  {
   "cell_type": "markdown",
   "metadata": {},
   "source": [
    "### Data Visualization\n"
   ]
  },
  {
   "cell_type": "code",
   "execution_count": 26,
   "metadata": {},
   "outputs": [
    {
     "data": {
      "image/png": "[encoded data removed]",
      "text/plain": [
       "<Figure size 842.4x595.44 with 1 Axes>"
      ]
     },
     "metadata": {},
     "output_type": "display_data"
    }
   ],
   "source": [
    "# import the seaborn module\n",
    "import seaborn as sns\n",
    "# import the matplotlib module\n",
    "import matplotlib.pyplot as plt\n",
    "# set the background colour of the plot to white\n",
    "sns.set(style=\"whitegrid\", color_codes=True)\n",
    "# setting the plot size for all plots\n",
    "sns.set(rc={'figure.figsize':(11.7,8.27)})\n",
    "# create a countplot\n",
    "sns.countplot('Route To Market',data=sales_data,hue = 'Opportunity Result')\n",
    "# Remove the top and down margin\n",
    "sns.despine(offset=10, trim=True)\n",
    "plt.show()"
   ]
  },
  {
   "cell_type": "markdown",
   "metadata": {},
   "source": [
    "* The first thing is that the data set has more records of the type ‘loss’ than records of the type ‘won’, as we can see from the size of the bars.\n",
    "* we can see that most of the data from our data set is concentrated towards the left side of the plot\n",
    "*  Another thing to notice is that the category ‘Field Sales’ has more losses than the category ‘Reseller’"
   ]
  },
  {
   "cell_type": "code",
   "execution_count": 27,
   "metadata": {},
   "outputs": [
    {
     "data": {
      "image/png": "[encoded data removed]",
      "text/plain": [
       "<Figure size 842.4x595.44 with 1 Axes>"
      ]
     },
     "metadata": {},
     "output_type": "display_data"
    }
   ],
   "source": [
    "# plotting the violinplot\n",
    "sns.violinplot(x=\"Opportunity Result\",y=\"Client Size By Revenue\", hue=\"Opportunity Result\", data=sales_data);\n",
    "plt.show()"
   ]
  },
  {
   "cell_type": "markdown",
   "metadata": {},
   "source": [
    "Now, that our plot is created, let’s see what it tells us. In its simplest form, a violin plot displays the distribution of data across labels. In the above plot we have labels ‘won’ and ‘loss’ on the x-axis and the values of ‘Client Size By Revenue’ in the y-axis. The violin plot shows us that the largest distribution of data is in the client size ‘1’, and the rest of the client size labels have less data."
   ]
  },
  {
   "cell_type": "markdown",
   "metadata": {},
   "source": [
    "### Preprocessing Data\n",
    "We saw in our initial exploration that most of the columns in our data set are strings, but the algorithms in scikit-learn understand only numeric data. Luckily, the scikit-learn library provides us with many methods for converting string data into numerical data. One such method is the LabelEncoder() method. We will use this method to convert the categorical labels in our data set like ‘won’ and ‘loss’ into numerical labels. To visualize what we are trying to to achieve with the LabelEncoder() method let’s consider the images below.\n",
    "<img src=\"dataframe_before-1.png\">\n",
    "<img src=\"dataframe_after-1.png\">"
   ]
  },
  {
   "cell_type": "code",
   "execution_count": 28,
   "metadata": {},
   "outputs": [
    {
     "data": {
      "text/plain": [
       "['Fields Sales', 'Reseller', 'Other', 'Telesales', 'Telecoverage']"
      ]
     },
     "execution_count": 28,
     "metadata": {},
     "output_type": "execute_result"
    }
   ],
   "source": [
    "RtoM = list(sales_data['Route To Market'].unique())\n",
    "RtoM"
   ]
  },
  {
   "cell_type": "code",
   "execution_count": 29,
   "metadata": {},
   "outputs": [
    {
     "data": {
      "text/html": [
       "<div>\n",
       "<style scoped>\n",
       "    .dataframe tbody tr th:only-of-type {\n",
       "        vertical-align: middle;\n",
       "    }\n",
       "\n",
       "    .dataframe tbody tr th {\n",
       "        vertical-align: top;\n",
       "    }\n",
       "\n",
       "    .dataframe thead th {\n",
       "        text-align: right;\n",
       "    }\n",
       "</style>\n",
       "<table border=\"1\" class=\"dataframe\">\n",
       "  <thead>\n",
       "    <tr style=\"text-align: right;\">\n",
       "      <th></th>\n",
       "      <th>Opportunity Number</th>\n",
       "      <th>Supplies Subgroup</th>\n",
       "      <th>Supplies Group</th>\n",
       "      <th>Region</th>\n",
       "      <th>Route To Market</th>\n",
       "      <th>Elapsed Days In Sales Stage</th>\n",
       "      <th>Opportunity Result</th>\n",
       "      <th>Sales Stage Change Count</th>\n",
       "      <th>Total Days Identified Through Closing</th>\n",
       "      <th>Total Days Identified Through Qualified</th>\n",
       "      <th>Opportunity Amount USD</th>\n",
       "      <th>Client Size By Revenue</th>\n",
       "      <th>Client Size By Employee Count</th>\n",
       "      <th>Revenue From Client Past Two Years</th>\n",
       "      <th>Competitor Type</th>\n",
       "      <th>Ratio Days Identified To Total Days</th>\n",
       "      <th>Ratio Days Validated To Total Days</th>\n",
       "      <th>Ratio Days Qualified To Total Days</th>\n",
       "      <th>Deal Size Category</th>\n",
       "    </tr>\n",
       "  </thead>\n",
       "  <tbody>\n",
       "    <tr>\n",
       "      <td>0</td>\n",
       "      <td>1641984</td>\n",
       "      <td>2</td>\n",
       "      <td>0</td>\n",
       "      <td>3</td>\n",
       "      <td>0</td>\n",
       "      <td>76</td>\n",
       "      <td>1</td>\n",
       "      <td>13</td>\n",
       "      <td>104</td>\n",
       "      <td>101</td>\n",
       "      <td>0</td>\n",
       "      <td>5</td>\n",
       "      <td>5</td>\n",
       "      <td>0</td>\n",
       "      <td>2</td>\n",
       "      <td>0.69636</td>\n",
       "      <td>0.113985</td>\n",
       "      <td>0.154215</td>\n",
       "      <td>1</td>\n",
       "    </tr>\n",
       "    <tr>\n",
       "      <td>1</td>\n",
       "      <td>1658010</td>\n",
       "      <td>2</td>\n",
       "      <td>0</td>\n",
       "      <td>4</td>\n",
       "      <td>2</td>\n",
       "      <td>63</td>\n",
       "      <td>0</td>\n",
       "      <td>2</td>\n",
       "      <td>163</td>\n",
       "      <td>163</td>\n",
       "      <td>0</td>\n",
       "      <td>3</td>\n",
       "      <td>5</td>\n",
       "      <td>0</td>\n",
       "      <td>2</td>\n",
       "      <td>0.00000</td>\n",
       "      <td>1.000000</td>\n",
       "      <td>0.000000</td>\n",
       "      <td>1</td>\n",
       "    </tr>\n",
       "    <tr>\n",
       "      <td>2</td>\n",
       "      <td>1674737</td>\n",
       "      <td>5</td>\n",
       "      <td>2</td>\n",
       "      <td>4</td>\n",
       "      <td>2</td>\n",
       "      <td>24</td>\n",
       "      <td>1</td>\n",
       "      <td>7</td>\n",
       "      <td>82</td>\n",
       "      <td>82</td>\n",
       "      <td>7750</td>\n",
       "      <td>1</td>\n",
       "      <td>1</td>\n",
       "      <td>0</td>\n",
       "      <td>2</td>\n",
       "      <td>1.00000</td>\n",
       "      <td>0.000000</td>\n",
       "      <td>0.000000</td>\n",
       "      <td>1</td>\n",
       "    </tr>\n",
       "    <tr>\n",
       "      <td>3</td>\n",
       "      <td>1675224</td>\n",
       "      <td>8</td>\n",
       "      <td>2</td>\n",
       "      <td>1</td>\n",
       "      <td>2</td>\n",
       "      <td>16</td>\n",
       "      <td>0</td>\n",
       "      <td>5</td>\n",
       "      <td>124</td>\n",
       "      <td>124</td>\n",
       "      <td>0</td>\n",
       "      <td>1</td>\n",
       "      <td>1</td>\n",
       "      <td>0</td>\n",
       "      <td>0</td>\n",
       "      <td>1.00000</td>\n",
       "      <td>0.000000</td>\n",
       "      <td>0.000000</td>\n",
       "      <td>1</td>\n",
       "    </tr>\n",
       "    <tr>\n",
       "      <td>4</td>\n",
       "      <td>1689785</td>\n",
       "      <td>2</td>\n",
       "      <td>0</td>\n",
       "      <td>4</td>\n",
       "      <td>2</td>\n",
       "      <td>69</td>\n",
       "      <td>0</td>\n",
       "      <td>11</td>\n",
       "      <td>91</td>\n",
       "      <td>13</td>\n",
       "      <td>69756</td>\n",
       "      <td>1</td>\n",
       "      <td>1</td>\n",
       "      <td>0</td>\n",
       "      <td>2</td>\n",
       "      <td>0.00000</td>\n",
       "      <td>0.141125</td>\n",
       "      <td>0.000000</td>\n",
       "      <td>4</td>\n",
       "    </tr>\n",
       "  </tbody>\n",
       "</table>\n",
       "</div>"
      ],
      "text/plain": [
       "   Opportunity Number  Supplies Subgroup  Supplies Group  Region  \\\n",
       "0             1641984                  2               0       3   \n",
       "1             1658010                  2               0       4   \n",
       "2             1674737                  5               2       4   \n",
       "3             1675224                  8               2       1   \n",
       "4             1689785                  2               0       4   \n",
       "\n",
       "   Route To Market  Elapsed Days In Sales Stage  Opportunity Result  \\\n",
       "0                0                           76                   1   \n",
       "1                2                           63                   0   \n",
       "2                2                           24                   1   \n",
       "3                2                           16                   0   \n",
       "4                2                           69                   0   \n",
       "\n",
       "   Sales Stage Change Count  Total Days Identified Through Closing  \\\n",
       "0                        13                                    104   \n",
       "1                         2                                    163   \n",
       "2                         7                                     82   \n",
       "3                         5                                    124   \n",
       "4                        11                                     91   \n",
       "\n",
       "   Total Days Identified Through Qualified  Opportunity Amount USD  \\\n",
       "0                                      101                       0   \n",
       "1                                      163                       0   \n",
       "2                                       82                    7750   \n",
       "3                                      124                       0   \n",
       "4                                       13                   69756   \n",
       "\n",
       "   Client Size By Revenue  Client Size By Employee Count  \\\n",
       "0                       5                              5   \n",
       "1                       3                              5   \n",
       "2                       1                              1   \n",
       "3                       1                              1   \n",
       "4                       1                              1   \n",
       "\n",
       "   Revenue From Client Past Two Years  Competitor Type  \\\n",
       "0                                   0                2   \n",
       "1                                   0                2   \n",
       "2                                   0                2   \n",
       "3                                   0                0   \n",
       "4                                   0                2   \n",
       "\n",
       "   Ratio Days Identified To Total Days  Ratio Days Validated To Total Days  \\\n",
       "0                              0.69636                            0.113985   \n",
       "1                              0.00000                            1.000000   \n",
       "2                              1.00000                            0.000000   \n",
       "3                              1.00000                            0.000000   \n",
       "4                              0.00000                            0.141125   \n",
       "\n",
       "   Ratio Days Qualified To Total Days  Deal Size Category  \n",
       "0                            0.154215                   1  \n",
       "1                            0.000000                   1  \n",
       "2                            0.000000                   1  \n",
       "3                            0.000000                   1  \n",
       "4                            0.000000                   4  "
      ]
     },
     "execution_count": 29,
     "metadata": {},
     "output_type": "execute_result"
    }
   ],
   "source": [
    "#import the necessary module\n",
    "from sklearn import preprocessing\n",
    "# create the Labelencoder object\n",
    "le = preprocessing.LabelEncoder()\n",
    "#convert the categorical columns into numeric\n",
    "sales_data['Supplies Subgroup'] = le.fit_transform(sales_data['Supplies Subgroup'])\n",
    "sales_data['Region'] = le.fit_transform(sales_data['Region'])\n",
    "sales_data['Route To Market'] = le.fit_transform(sales_data['Route To Market'])\n",
    "sales_data['Opportunity Result'] = le.fit_transform(sales_data['Opportunity Result'])\n",
    "sales_data['Competitor Type'] = le.fit_transform(sales_data['Competitor Type'])\n",
    "sales_data['Supplies Group'] = le.fit_transform(sales_data['Supplies Group'])\n",
    "#display the initial records\n",
    "sales_data.head()"
   ]
  },
  {
   "cell_type": "markdown",
   "metadata": {},
   "source": [
    "Now that we have our data prepared and converted it is almost ready to be used for building our predictive model. But we still need to do one critical thing:\n",
    "### Training Set & Test Set\n",
    "A Machine Learning algorithm needs to be trained on a set of data to learn the relationships between different features and how these features affect the target variable. For this we need to divide the entire data set into two sets. One is the training set on which we are going to train our algorithm to build a model. The other is the testing set on which we will test our model to see how accurate its predictions are. But before doing all this splitting, let’s first separate our features and target variables"
   ]
  },
  {
   "cell_type": "code",
   "execution_count": 30,
   "metadata": {},
   "outputs": [
    {
     "data": {
      "text/html": [
       "<div>\n",
       "<style scoped>\n",
       "    .dataframe tbody tr th:only-of-type {\n",
       "        vertical-align: middle;\n",
       "    }\n",
       "\n",
       "    .dataframe tbody tr th {\n",
       "        vertical-align: top;\n",
       "    }\n",
       "\n",
       "    .dataframe thead th {\n",
       "        text-align: right;\n",
       "    }\n",
       "</style>\n",
       "<table border=\"1\" class=\"dataframe\">\n",
       "  <thead>\n",
       "    <tr style=\"text-align: right;\">\n",
       "      <th></th>\n",
       "      <th>Supplies Subgroup</th>\n",
       "      <th>Supplies Group</th>\n",
       "      <th>Region</th>\n",
       "      <th>Route To Market</th>\n",
       "      <th>Elapsed Days In Sales Stage</th>\n",
       "      <th>Sales Stage Change Count</th>\n",
       "      <th>Total Days Identified Through Closing</th>\n",
       "      <th>Total Days Identified Through Qualified</th>\n",
       "      <th>Opportunity Amount USD</th>\n",
       "      <th>Client Size By Revenue</th>\n",
       "      <th>Client Size By Employee Count</th>\n",
       "      <th>Revenue From Client Past Two Years</th>\n",
       "      <th>Competitor Type</th>\n",
       "      <th>Ratio Days Identified To Total Days</th>\n",
       "      <th>Ratio Days Validated To Total Days</th>\n",
       "      <th>Ratio Days Qualified To Total Days</th>\n",
       "      <th>Deal Size Category</th>\n",
       "    </tr>\n",
       "  </thead>\n",
       "  <tbody>\n",
       "    <tr>\n",
       "      <td>0</td>\n",
       "      <td>2</td>\n",
       "      <td>0</td>\n",
       "      <td>3</td>\n",
       "      <td>0</td>\n",
       "      <td>76</td>\n",
       "      <td>13</td>\n",
       "      <td>104</td>\n",
       "      <td>101</td>\n",
       "      <td>0</td>\n",
       "      <td>5</td>\n",
       "      <td>5</td>\n",
       "      <td>0</td>\n",
       "      <td>2</td>\n",
       "      <td>0.69636</td>\n",
       "      <td>0.113985</td>\n",
       "      <td>0.154215</td>\n",
       "      <td>1</td>\n",
       "    </tr>\n",
       "    <tr>\n",
       "      <td>1</td>\n",
       "      <td>2</td>\n",
       "      <td>0</td>\n",
       "      <td>4</td>\n",
       "      <td>2</td>\n",
       "      <td>63</td>\n",
       "      <td>2</td>\n",
       "      <td>163</td>\n",
       "      <td>163</td>\n",
       "      <td>0</td>\n",
       "      <td>3</td>\n",
       "      <td>5</td>\n",
       "      <td>0</td>\n",
       "      <td>2</td>\n",
       "      <td>0.00000</td>\n",
       "      <td>1.000000</td>\n",
       "      <td>0.000000</td>\n",
       "      <td>1</td>\n",
       "    </tr>\n",
       "  </tbody>\n",
       "</table>\n",
       "</div>"
      ],
      "text/plain": [
       "   Supplies Subgroup  Supplies Group  Region  Route To Market  \\\n",
       "0                  2               0       3                0   \n",
       "1                  2               0       4                2   \n",
       "\n",
       "   Elapsed Days In Sales Stage  Sales Stage Change Count  \\\n",
       "0                           76                        13   \n",
       "1                           63                         2   \n",
       "\n",
       "   Total Days Identified Through Closing  \\\n",
       "0                                    104   \n",
       "1                                    163   \n",
       "\n",
       "   Total Days Identified Through Qualified  Opportunity Amount USD  \\\n",
       "0                                      101                       0   \n",
       "1                                      163                       0   \n",
       "\n",
       "   Client Size By Revenue  Client Size By Employee Count  \\\n",
       "0                       5                              5   \n",
       "1                       3                              5   \n",
       "\n",
       "   Revenue From Client Past Two Years  Competitor Type  \\\n",
       "0                                   0                2   \n",
       "1                                   0                2   \n",
       "\n",
       "   Ratio Days Identified To Total Days  Ratio Days Validated To Total Days  \\\n",
       "0                              0.69636                            0.113985   \n",
       "1                              0.00000                            1.000000   \n",
       "\n",
       "   Ratio Days Qualified To Total Days  Deal Size Category  \n",
       "0                            0.154215                   1  \n",
       "1                            0.000000                   1  "
      ]
     },
     "execution_count": 30,
     "metadata": {},
     "output_type": "execute_result"
    }
   ],
   "source": [
    "# select columns other than 'Opportunity Number','Opportunity Result'\n",
    "cols = [col for col in sales_data.columns if col not in ['Opportunity Number','Opportunity Result']]\n",
    "# dropping the 'Opportunity Number'and 'Opportunity Result' columns\n",
    "data = sales_data[cols]\n",
    "#assigning the Oppurtunity Result column as target\n",
    "target = sales_data['Opportunity Result']\n",
    "data.head(n=2)"
   ]
  },
  {
   "cell_type": "markdown",
   "metadata": {},
   "source": [
    "Next we will divide the dataframes data and target into training sets and testing sets. When splitting the data set we will keep 30% of the data as the test data and the remaining 70% as the training data."
   ]
  },
  {
   "cell_type": "code",
   "execution_count": 39,
   "metadata": {},
   "outputs": [],
   "source": [
    "#import the necessary module\n",
    "from sklearn.model_selection import train_test_split\n",
    "#split data set into train and test sets\n",
    "data_train, data_test, target_train, target_test = train_test_split(data, target, train_size=0.7, test_size=0.30, random_state = 10)"
   ]
  },
  {
   "cell_type": "code",
   "execution_count": 50,
   "metadata": {},
   "outputs": [],
   "source": [
    "import numpy as np\n",
    "from sklearn import datasets\n",
    "iris_X, iris_y = datasets.load_iris(return_X_y=True)"
   ]
  },
  {
   "cell_type": "markdown",
   "metadata": {},
   "source": [
    "# Different Types of Classifiers\n",
    "### K-Nearest Neighbors\n",
    "K-Nearest Neighbors operates by checking the distance from some test example to the known values of some training example. The group of data points/class that would give the smallest distance between the training points and the testing point is the class that is selected.\n",
    "<img src=\"overview-classification-methods-python-scikit-learn-4.png\" width='400'>\n"
   ]
  },
  {
   "cell_type": "markdown",
   "metadata": {},
   "source": [
    "### Decision Trees\n",
    "A Decision Tree Classifier functions by breaking down a dataset into smaller and smaller subsets based on different criteria. Different sorting criteria will be used to divide the dataset, with the number of examples getting smaller with every division.\n",
    "Once the network has divided the data down to one example, the example will be put into a class that corresponds to a key. When multiple random forest classifiers are linked together they are called Random Forest Classifiers.</br>\n",
    "<img src=\"A-Sample-Decision-Tree-for-Playing-Tennis-Based-on-Weather-Conditions-from-Mitchell.png\" width='400'>\n"
   ]
  },
  {
   "cell_type": "markdown",
   "metadata": {},
   "source": [
    "### Naive Bayes\n",
    "A Naive Bayes Classifier determines the probability that an example belongs to some class, calculating the probability that an event will occur given that some input event has occurred.\n",
    "\n",
    "When it does this calculation it is assumed that all the predictors of a class have the same effect on the outcome, that the predictors are independent."
   ]
  },
  {
   "cell_type": "markdown",
   "metadata": {},
   "source": [
    "### Support Vector Machines\n",
    "Support Vector Machines work by drawing a line between the different clusters of data points to group them into classes. Points on one side of the line will be one class and points on the other side belong to another class.\n",
    "\n",
    "The classifier will try to maximize the distance between the line it draws and the points on either side of it, to increase its confidence in which points belong to which class. When the testing points are plotted, the side of the line they fall on is the class they are put in.\n",
    "<img src=\"overview-classification-methods-python-scikit-learn-5.jpg\" >\n"
   ]
  },
  {
   "cell_type": "markdown",
   "metadata": {},
   "source": [
    "### Logistic Regression\n",
    "Logistic Regression outputs predictions about test data points on a binary scale, zero or one. If the value of something is 0.5 or above, it is classified as belonging to class 1, while below 0.5 if is classified as belonging to 0.\n",
    "\n",
    "Each of the features also has a label of only 0 or 1. Logistic regression is a linear classifier and therefore used when there is some sort of linear relationship between the data.m"
   ]
  },
  {
   "cell_type": "markdown",
   "metadata": {},
   "source": [
    "# Building The Model\n",
    "There’s a `machine_learning_map` available on scikit learn’s website that we can use as a quick reference when choosing an algorithm. It looks something like this:\n",
    "<img src='ml_map.png'>\n",
    "We can use this map as a cheat sheet to shortlist the algorithms that we can try out to build our prediction model. Using the checklist let’s see under which category we fall:\n",
    "\n",
    "* More than 50 samples – Check\n",
    "* Are we predicting a category – Check\n",
    "* We have labeled data? ( data with clear names like opportunity amount etc.) – Check\n",
    "* Less than 100k samples – Check\n",
    "\n",
    "Based on the checklist that we prepared above and going by the machine_learning_map we can try out the below mentioned algorithms.\n",
    "\n",
    "* Naive Bayes\n",
    "* Linear SVC\n",
    "* K-Neighbours Classifier\n"
   ]
  },
  {
   "cell_type": "markdown",
   "metadata": {},
   "source": [
    "## Naive-Bayes\n",
    "On a very high level a Naive-Bayes algorithm calculates the probability of the connection of a feature with a target variable and then it selects the feature with the highest probability. Let’s try to understand this with a very simple problem statement: Will it rain today? Suppose we have a set of weather data with us that will be our feature set, and the probability of ‘Rain’ will be our target. Based on this feature set we can create a table to show us the number of times a particular feature/target pair occur. It would look something like this:</br>\n",
    "<img src='NB_occurancetable-1.png'></br>\n",
    "In the table above the feature (column) ‘Weather’ contains the labels (‘Partially Cloudy’ and ‘Cloudy’) and the column ‘Rain’ contains the occurrence of rain coinciding with the feature ‘Weather’ (Yes/No). We can now use the data from the occurrence table to create another table known as the ‘Frequency table’ where we can record the number of ‘Yes’ and the number of ‘No’ answers that each feature relates to:</br>\n",
    "<img src='Frequency_Table-1.png'><br>\n",
    "Finally, we combine the data from the ‘occurrence table’ and the ‘frequency table’ and create a ‘likelihood table’. This table lists the amount of ‘Yes’ and ‘No’ for each feature and then uses this data to calculate the probability of contibution of each feature towards the occurrence of rain:</br>\n",
    "<img src='Probability_Table.png'></br>\n",
    "Notice the ‘Individual Probability’ column in the table above. We had 6 occurrences of the features ‘Partially Cloudy’ and ‘Cloudy’ from the ‘Occurrence table’ and from the ‘Likelihood table’ it was clear that the feature ‘Partially Cloudy’ had 4 occurrences (2 for ‘No’ and 2 for ‘yes’). When we divide the number of occurrences of ‘No’ and ‘Yes’ of a particular feature with the ‘total’ of the ‘occurrence table’, we get the probability of that particular feature. In our case if we need to find out that which feature has the strongest probability of contributing to the occurrence of Rain then we take the total number of ‘No’ of each feature and add it to their respective number of ‘Yes’ from the ‘frequency table’ and then divide the sum with the ‘Total’ from the occurances table’. This gives us the probability of each of these features coinciding with rain.</br></br>\n",
    "</br>\n",
    "Now let’s implement the Gaussian Naive Bayes or `GaussianNB` algorithm from scikit-learn to create our prediction model:\n",
    "\n"
   ]
  },
  {
   "cell_type": "code",
   "execution_count": 33,
   "metadata": {},
   "outputs": [
    {
     "name": "stdout",
     "output_type": "stream",
     "text": [
      "Naive-Bayes accuracy :  0.7590567327409433\n"
     ]
    }
   ],
   "source": [
    "# import the necessary module\n",
    "from sklearn.naive_bayes import GaussianNB\n",
    "from sklearn.metrics import accuracy_score\n",
    "#create an object of the type GaussianNB\n",
    "gnb = GaussianNB()\n",
    "#train the algorithm on training data and predict using the testing data\n",
    "gnb.fit(data_train, target_train)\n",
    "pred = gnb.predict(data_test)\n",
    "#print(pred.tolist())\n",
    "#print the accuracy score of the model\n",
    "print(\"Naive-Bayes accuracy : \",accuracy_score(target_test, pred, normalize = True))"
   ]
  },
  {
   "cell_type": "markdown",
   "metadata": {},
   "source": [
    "we trained the algorithm on the testing data(data_train) and testing target(target_train) using the fit() method, and then predicted the targets in the test data using the predict() method."
   ]
  },
  {
   "cell_type": "markdown",
   "metadata": {},
   "source": [
    "## LinearSVC\n",
    "LinearSVC or Linear Support Vector Classification is a subclass of the SVM (Support Vector Machine) class. We won’t go into the intricacies of the mathematics involved in this class of algorithms, but on a very basic level LinearSVC tries to divide the data into different planes so that it can find a best possible grouping of different classes. To get a clear understanding of this concept let’s imagine a data set of ‘dots’ and ‘squares’ divided into a two dimensional space along two axis, as shown in the image below:\n",
    "<img src='SVM-1.png'></br>\n",
    "In the image above a LinearSVC implementation tries to divide the two-dimensional space in such a way that the two classes of data i.e the dots and squares are clearly divided. Here the two lines visually represent the various division that the LinearSVC tries to implement to separate out the two available classes."
   ]
  },
  {
   "cell_type": "code",
   "execution_count": 51,
   "metadata": {},
   "outputs": [
    {
     "name": "stdout",
     "output_type": "stream",
     "text": [
      "LinearSVC accuracy :  0.777811004784689\n"
     ]
    },
    {
     "name": "stderr",
     "output_type": "stream",
     "text": [
      "C:\\Users\\Amirhossein\\Anaconda3\\lib\\site-packages\\sklearn\\svm\\base.py:929: ConvergenceWarning: Liblinear failed to converge, increase the number of iterations.\n",
      "  \"the number of iterations.\", ConvergenceWarning)\n"
     ]
    }
   ],
   "source": [
    "#import the necessary modules\n",
    "from sklearn.svm import LinearSVC\n",
    "from sklearn.metrics import accuracy_score\n",
    "#create an object of type LinearSVC\n",
    "svc_model = LinearSVC(random_state=0)\n",
    "#train the algorithm on training data and predict using the testing data\n",
    "pred = svc_model.fit(data_train, target_train).predict(data_test)\n",
    "#print the accuracy score of the model\n",
    "print(\"LinearSVC accuracy : \",accuracy_score(target_test, pred, normalize = True))"
   ]
  },
  {
   "cell_type": "markdown",
   "metadata": {},
   "source": [
    "*normalize : bool, optional (default=True)*\n",
    "</br>If False, return the number of correctly classified samples. Otherwise, return the fraction of correctly classified samples.</br>\n",
    "Hold on! What is a “random_state” ? Simply put the ``random_state`` is an instruction to the built-in random number generator to shuffle the data in a specific order.\n"
   ]
  },
  {
   "cell_type": "markdown",
   "metadata": {},
   "source": [
    "## K-Neighbors Classifier"
   ]
  },
  {
   "cell_type": "code",
   "execution_count": 35,
   "metadata": {},
   "outputs": [
    {
     "name": "stdout",
     "output_type": "stream",
     "text": [
      "KNeighbors accuracy score :  0.8145505809979494\n"
     ]
    }
   ],
   "source": [
    "#import necessary modules\n",
    "from sklearn.neighbors import KNeighborsClassifier\n",
    "from sklearn.metrics import accuracy_score\n",
    "#create object of the lassifier\n",
    "neigh = KNeighborsClassifier(n_neighbors=3)\n",
    "#Train the algorithm\n",
    "neigh.fit(data_train, target_train)\n",
    "# predict the response\n",
    "pred = neigh.predict(data_test)\n",
    "# evaluate accuracy\n",
    "print (\"KNeighbors accuracy score : \",accuracy_score(target_test, pred))"
   ]
  },
  {
   "cell_type": "markdown",
   "metadata": {},
   "source": [
    "we created the object neigh of type KNeighborsClassifier with the number of neighbors being `n_neighbors=3`."
   ]
  },
  {
   "cell_type": "markdown",
   "metadata": {},
   "source": [
    "### machine learning Pipeline"
   ]
  },
  {
   "cell_type": "code",
   "execution_count": 36,
   "metadata": {},
   "outputs": [
    {
     "data": {
      "text/html": [
       "<div>\n",
       "<style scoped>\n",
       "    .dataframe tbody tr th:only-of-type {\n",
       "        vertical-align: middle;\n",
       "    }\n",
       "\n",
       "    .dataframe tbody tr th {\n",
       "        vertical-align: top;\n",
       "    }\n",
       "\n",
       "    .dataframe thead th {\n",
       "        text-align: right;\n",
       "    }\n",
       "</style>\n",
       "<table border=\"1\" class=\"dataframe\">\n",
       "  <thead>\n",
       "    <tr style=\"text-align: right;\">\n",
       "      <th></th>\n",
       "      <th>Classifier</th>\n",
       "      <th>Accuracy</th>\n",
       "    </tr>\n",
       "  </thead>\n",
       "  <tbody>\n",
       "  </tbody>\n",
       "</table>\n",
       "</div>"
      ],
      "text/plain": [
       "Empty DataFrame\n",
       "Columns: [Classifier, Accuracy]\n",
       "Index: []"
      ]
     },
     "execution_count": 36,
     "metadata": {},
     "output_type": "execute_result"
    }
   ],
   "source": [
    "classifiers = [\n",
    "    KNeighborsClassifier(3),\n",
    "    GaussianNB(),\n",
    "    LinearSVC()\n",
    "]\n",
    "# Logging for Visual Comparison\n",
    "log_cols = [\"Classifier\", \"Accuracy\"]\n",
    "log = pd.DataFrame(columns=log_cols)\n",
    "log"
   ]
  },
  {
   "cell_type": "code",
   "execution_count": 37,
   "metadata": {},
   "outputs": [
    {
     "name": "stdout",
     "output_type": "stream",
     "text": [
      "==============================\n",
      "KNeighborsClassifier\n",
      "****Results****\n",
      "Accuracy: 81.4551%\n",
      "==============================\n",
      "GaussianNB\n",
      "****Results****\n",
      "Accuracy: 75.9057%\n",
      "==============================\n",
      "LinearSVC\n",
      "****Results****\n",
      "Accuracy: 30.8741%\n",
      "==============================\n"
     ]
    },
    {
     "name": "stderr",
     "output_type": "stream",
     "text": [
      "C:\\Users\\Amirhossein\\Anaconda3\\lib\\site-packages\\sklearn\\svm\\base.py:929: ConvergenceWarning: Liblinear failed to converge, increase the number of iterations.\n",
      "  \"the number of iterations.\", ConvergenceWarning)\n"
     ]
    }
   ],
   "source": [
    "from sklearn.metrics import accuracy_score\n",
    "for clf in classifiers:\n",
    "    print(\"=\"*30)\n",
    "    name = clf.__class__.__name__\n",
    "    print(name)\n",
    "    \n",
    "    clf.fit(data_train, target_train)\n",
    "    print('****Results****')\n",
    "    train_predictions = clf.predict(data_test)\n",
    "    acc = accuracy_score(target_test, train_predictions)\n",
    "    print(\"Accuracy: {:.4%}\".format(acc))\n",
    "    \n",
    "    log_entry = pd.DataFrame([[name, acc*100]], columns=log_cols)\n",
    "    log = log.append(log_entry)\n",
    "    \n",
    "print(\"=\"*30)"
   ]
  },
  {
   "cell_type": "code",
   "execution_count": 38,
   "metadata": {},
   "outputs": [
    {
     "data": {
      "image/png": "[encoded data removed]",
      "text/plain": [
       "<Figure size 842.4x595.44 with 1 Axes>"
      ]
     },
     "metadata": {},
     "output_type": "display_data"
    }
   ],
   "source": [
    "sns.set_color_codes(\"muted\")\n",
    "sns.barplot(x='Accuracy', y='Classifier', data=log, color=\"b\")\n",
    "\n",
    "plt.xlabel('Accuracy %')\n",
    "plt.title('Classifier Accuracy')\n",
    "plt.show()\n"
   ]
  },
  {
   "cell_type": "markdown",
   "metadata": {},
   "source": [
    "### References\n",
    "1. www.sas.com\n",
    "2. www.towardsdatascience.com -machine learning: an introduction-Gavin Edwards\n",
    "3. www.dataquest.io -Scikit-learn Tutorial: Machine Learning in Python-Satyabrata Pal\n",
    "4. stackabuse.com -Overview of Classification Methods in Python with Scikit-Learn-Dan Nelson\n",
    "5. kaggle.com -Which Classifier is Should I Choose?"
   ]
  },
  {
   "cell_type": "code",
   "execution_count": null,
   "metadata": {},
   "outputs": [],
   "source": []
  }
 ],
 "metadata": {
  "kernelspec": {
   "display_name": "Python 3",
   "language": "python",
   "name": "python3"
  },
  "language_info": {
   "codemirror_mode": {
    "name": "ipython",
    "version": 3
   },
   "file_extension": ".py",
   "mimetype": "text/x-python",
   "name": "python",
   "nbconvert_exporter": "python",
   "pygments_lexer": "ipython3",
   "version": "3.7.4"
  }
 },
 "nbformat": 4,
 "nbformat_minor": 4
}
